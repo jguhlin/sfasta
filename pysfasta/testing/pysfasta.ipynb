{
 "cells": [
  {
   "cell_type": "code",
   "execution_count": 1,
   "metadata": {},
   "outputs": [],
   "source": [
    "import sfasta"
   ]
  },
  {
   "cell_type": "code",
   "execution_count": 2,
   "metadata": {},
   "outputs": [],
   "source": [
    "sf = sfasta.Sfasta(\"/mnt/data/data/sfasta_testing/8000.sfasta\", 8)"
   ]
  },
  {
   "cell_type": "code",
   "execution_count": 3,
   "metadata": {},
   "outputs": [
    {
     "data": {
      "text/html": [
       "<div><style>\n",
       ".dataframe > thead > tr,\n",
       ".dataframe > tbody > tr {\n",
       "  text-align: right;\n",
       "  white-space: pre-wrap;\n",
       "}\n",
       "</style>\n",
       "<small>shape: (5,)</small><table border=\"1\" class=\"dataframe\"><thead><tr><th>ID</th></tr><tr><td>str</td></tr></thead><tbody><tr><td>&quot;7001326F:180:H…</td></tr><tr><td>&quot;7001326F:180:H…</td></tr><tr><td>&quot;7001326F:180:H…</td></tr><tr><td>&quot;7001326F:180:H…</td></tr><tr><td>&quot;7001326F:180:H…</td></tr></tbody></table></div>"
      ],
      "text/plain": [
       "shape: (5,)\n",
       "Series: 'ID' [str]\n",
       "[\n",
       "\t\"7001326F:180:H…\n",
       "\t\"7001326F:180:H…\n",
       "\t\"7001326F:180:H…\n",
       "\t\"7001326F:180:H…\n",
       "\t\"7001326F:180:H…\n",
       "]"
      ]
     },
     "execution_count": 3,
     "metadata": {},
     "output_type": "execute_result"
    }
   ],
   "source": [
    "ids = sf.ids()\n",
    "ids[0:5]"
   ]
  },
  {
   "cell_type": "code",
   "execution_count": 4,
   "metadata": {},
   "outputs": [
    {
     "data": {
      "text/html": [
       "<div><style>\n",
       ".dataframe > thead > tr,\n",
       ".dataframe > tbody > tr {\n",
       "  text-align: right;\n",
       "  white-space: pre-wrap;\n",
       "}\n",
       "</style>\n",
       "<small>shape: (5, 2)</small><table border=\"1\" class=\"dataframe\"><thead><tr><th>ID</th><th>Header</th></tr><tr><td>str</td><td>str</td></tr></thead><tbody><tr><td>&quot;7001326F:180:H…</td><td>&quot;1:N:0:ACTAAGAT…</td></tr><tr><td>&quot;7001326F:180:H…</td><td>&quot;1:N:0:ACTAAGAT…</td></tr><tr><td>&quot;7001326F:180:H…</td><td>&quot;1:N:0:ACTAAGAT…</td></tr><tr><td>&quot;7001326F:180:H…</td><td>&quot;1:N:0:ACTAAGAT…</td></tr><tr><td>&quot;7001326F:180:H…</td><td>&quot;1:N:0:ACTAAGAT…</td></tr></tbody></table></div>"
      ],
      "text/plain": [
       "shape: (5, 2)\n",
       "┌───────────────────────────────────┬─────────────────────────┐\n",
       "│ ID                                ┆ Header                  │\n",
       "│ ---                               ┆ ---                     │\n",
       "│ str                               ┆ str                     │\n",
       "╞═══════════════════════════════════╪═════════════════════════╡\n",
       "│ 7001326F:180:HWLNGBCX2:1:1105:98… ┆ 1:N:0:ACTAAGAT+AACCGCGG │\n",
       "│ 7001326F:180:HWLNGBCX2:1:1105:99… ┆ 1:N:0:ACTAAGAT+AACCGCGG │\n",
       "│ 7001326F:180:HWLNGBCX2:1:1105:98… ┆ 1:N:0:ACTAAGAT+AACCGCGG │\n",
       "│ 7001326F:180:HWLNGBCX2:1:1105:99… ┆ 1:N:0:ACTAAGAT+AACCGCGG │\n",
       "│ 7001326F:180:HWLNGBCX2:1:1105:99… ┆ 1:N:0:ACTAAGAT+AACCGCGG │\n",
       "└───────────────────────────────────┴─────────────────────────┘"
      ]
     },
     "execution_count": 4,
     "metadata": {},
     "output_type": "execute_result"
    }
   ],
   "source": [
    "sf.headers()[1000:1005]"
   ]
  },
  {
   "cell_type": "code",
   "execution_count": 6,
   "metadata": {},
   "outputs": [],
   "source": [
    "seq = sf.seq(ids[0])"
   ]
  },
  {
   "cell_type": "code",
   "execution_count": 10,
   "metadata": {},
   "outputs": [
    {
     "ename": "AttributeError",
     "evalue": "'builtins.Sequence' object has no attribute 'header'",
     "output_type": "error",
     "traceback": [
      "\u001b[0;31m---------------------------------------------------------------------------\u001b[0m",
      "\u001b[0;31mAttributeError\u001b[0m                            Traceback (most recent call last)",
      "Cell \u001b[0;32mIn[10], line 1\u001b[0m\n\u001b[0;32m----> 1\u001b[0m \u001b[43mseq\u001b[49m\u001b[38;5;241;43m.\u001b[39;49m\u001b[43mheader\u001b[49m()\n",
      "\u001b[0;31mAttributeError\u001b[0m: 'builtins.Sequence' object has no attribute 'header'"
     ]
    }
   ],
   "source": [
    "seq.header()"
   ]
  },
  {
   "cell_type": "code",
   "execution_count": null,
   "metadata": {},
   "outputs": [],
   "source": []
  }
 ],
 "metadata": {
  "kernelspec": {
   "display_name": "Python 3",
   "language": "python",
   "name": "python3"
  },
  "language_info": {
   "codemirror_mode": {
    "name": "ipython",
    "version": 3
   },
   "file_extension": ".py",
   "mimetype": "text/x-python",
   "name": "python",
   "nbconvert_exporter": "python",
   "pygments_lexer": "ipython3",
   "version": "3.10.13"
  }
 },
 "nbformat": 4,
 "nbformat_minor": 2
}
