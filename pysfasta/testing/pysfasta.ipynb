{
 "cells": [
  {
   "cell_type": "code",
   "execution_count": 1,
   "metadata": {},
   "outputs": [],
   "source": [
    "import sfasta"
   ]
  },
  {
   "cell_type": "code",
   "execution_count": 2,
   "metadata": {},
   "outputs": [],
   "source": [
    "sf = sfasta.Sfasta(\"/mnt/data/data/sfasta_testing/8000.sfasta\", 8)"
   ]
  },
  {
   "cell_type": "code",
   "execution_count": 3,
   "metadata": {},
   "outputs": [
    {
     "data": {
      "text/html": [
       "<div><style>\n",
       ".dataframe > thead > tr,\n",
       ".dataframe > tbody > tr {\n",
       "  text-align: right;\n",
       "  white-space: pre-wrap;\n",
       "}\n",
       "</style>\n",
       "<small>shape: (5,)</small><table border=\"1\" class=\"dataframe\"><thead><tr><th>ID</th></tr><tr><td>str</td></tr></thead><tbody><tr><td>&quot;7001326F:180:H…</td></tr><tr><td>&quot;7001326F:180:H…</td></tr><tr><td>&quot;7001326F:180:H…</td></tr><tr><td>&quot;7001326F:180:H…</td></tr><tr><td>&quot;7001326F:180:H…</td></tr></tbody></table></div>"
      ],
      "text/plain": [
       "shape: (5,)\n",
       "Series: 'ID' [str]\n",
       "[\n",
       "\t\"7001326F:180:H…\n",
       "\t\"7001326F:180:H…\n",
       "\t\"7001326F:180:H…\n",
       "\t\"7001326F:180:H…\n",
       "\t\"7001326F:180:H…\n",
       "]"
      ]
     },
     "execution_count": 3,
     "metadata": {},
     "output_type": "execute_result"
    }
   ],
   "source": [
    "ids = sf.ids()\n",
    "ids[0:5]"
   ]
  },
  {
   "cell_type": "code",
   "execution_count": 4,
   "metadata": {},
   "outputs": [
    {
     "data": {
      "text/html": [
       "<div><style>\n",
       ".dataframe > thead > tr,\n",
       ".dataframe > tbody > tr {\n",
       "  text-align: right;\n",
       "  white-space: pre-wrap;\n",
       "}\n",
       "</style>\n",
       "<small>shape: (5, 2)</small><table border=\"1\" class=\"dataframe\"><thead><tr><th>ID</th><th>Header</th></tr><tr><td>str</td><td>str</td></tr></thead><tbody><tr><td>&quot;7001326F:180:H…</td><td>&quot;1:N:0:ACTAAGAT…</td></tr><tr><td>&quot;7001326F:180:H…</td><td>&quot;1:N:0:ACTAAGAT…</td></tr><tr><td>&quot;7001326F:180:H…</td><td>&quot;1:N:0:ACTAAGAT…</td></tr><tr><td>&quot;7001326F:180:H…</td><td>&quot;1:N:0:ACTAAGAT…</td></tr><tr><td>&quot;7001326F:180:H…</td><td>&quot;1:N:0:ACTAAGAT…</td></tr></tbody></table></div>"
      ],
      "text/plain": [
       "shape: (5, 2)\n",
       "┌───────────────────────────────────┬─────────────────────────┐\n",
       "│ ID                                ┆ Header                  │\n",
       "│ ---                               ┆ ---                     │\n",
       "│ str                               ┆ str                     │\n",
       "╞═══════════════════════════════════╪═════════════════════════╡\n",
       "│ 7001326F:180:HWLNGBCX2:1:1105:98… ┆ 1:N:0:ACTAAGAT+AACCGCGG │\n",
       "│ 7001326F:180:HWLNGBCX2:1:1105:99… ┆ 1:N:0:ACTAAGAT+AACCGCGG │\n",
       "│ 7001326F:180:HWLNGBCX2:1:1105:98… ┆ 1:N:0:ACTAAGAT+AACCGCGG │\n",
       "│ 7001326F:180:HWLNGBCX2:1:1105:99… ┆ 1:N:0:ACTAAGAT+AACCGCGG │\n",
       "│ 7001326F:180:HWLNGBCX2:1:1105:99… ┆ 1:N:0:ACTAAGAT+AACCGCGG │\n",
       "└───────────────────────────────────┴─────────────────────────┘"
      ]
     },
     "execution_count": 4,
     "metadata": {},
     "output_type": "execute_result"
    }
   ],
   "source": [
    "sf.headers()[1000:1005]"
   ]
  },
  {
   "cell_type": "code",
   "execution_count": null,
   "metadata": {},
   "outputs": [],
   "source": []
  },
  {
   "cell_type": "code",
   "execution_count": null,
   "metadata": {},
   "outputs": [],
   "source": []
  },
  {
   "cell_type": "code",
   "execution_count": null,
   "metadata": {},
   "outputs": [],
   "source": []
  }
 ],
 "metadata": {
  "kernelspec": {
   "display_name": "Python 3",
   "language": "python",
   "name": "python3"
  },
  "language_info": {
   "codemirror_mode": {
    "name": "ipython",
    "version": 3
   },
   "file_extension": ".py",
   "mimetype": "text/x-python",
   "name": "python",
   "nbconvert_exporter": "python",
   "pygments_lexer": "ipython3",
   "version": "3.10.13"
  }
 },
 "nbformat": 4,
 "nbformat_minor": 2
}
